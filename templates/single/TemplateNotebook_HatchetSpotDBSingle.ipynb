{
 "cells": [
  {
   "cell_type": "code",
   "execution_count": null,
   "id": "e7c54fbe",
   "metadata": {},
   "outputs": [],
   "source": [
    "import sys\n",
    "import platform\n",
    "from IPython.display import HTML, display\n",
    "\n",
    "machine = platform.uname().machine\n",
    "\n",
    "# Variables replaced by spot.py\n",
    "input_deploy_dir_str = \"SPOT_DEPLOY_DIR\"\n",
    "input_db_uri_str = \"SPOT_SPOTDB_URI\"\n",
    "input_run_ids_str = \"SPOT_SPOTDB_RECORD_IDS\"\n",
    "\n",
    "sys.path.append(input_deploy_dir_str + \"/hatchet-venv/\" + machine + \"/lib/python3.10/site-packages\")\n",
    "sys.path.append(input_deploy_dir_str + \"/hatchet/\" + machine)\n",
    "sys.path.append(input_deploy_dir_str + \"/spotdb\")\n",
    "\n",
    "import datetime as dt\n",
    "import hatchet\n",
    "import spotdb"
   ]
  },
  {
   "cell_type": "code",
   "execution_count": null,
   "id": "cb6b0bc3",
   "metadata": {},
   "outputs": [],
   "source": [
    "db = spotdb.connect(input_db_uri_str)\n",
    "runs = input_run_ids_str.split(',')\n",
    "\n",
    "gfs = hatchet.GraphFrame.from_spotdb(db, runs)\n",
    "gf = gfs.pop()\n",
    "\n",
    "launchdate = dt.datetime.fromtimestamp(int(gf.metadata[\"launchdate\"]))\n",
    "jobsize = int(gf.metadata.get(\"jobsize\", 1))\n",
    "\n",
    "print(\"launchdate: {}, jobsize: {}\".format(launchdate, jobsize))\n",
    "print(gf.tree())\n",
    "display(HTML(gf.dataframe.to_html()))"
   ]
  }
 ],
 "metadata": {
  "kernelspec": {
   "display_name": "Python 3 (ipykernel)",
   "language": "python",
   "name": "python3"
  },
  "language_info": {
   "codemirror_mode": {
    "name": "ipython",
    "version": 3
   },
   "file_extension": ".py",
   "mimetype": "text/x-python",
   "name": "python",
   "nbconvert_exporter": "python",
   "pygments_lexer": "ipython3",
   "version": "3.7.3"
  }
 },
 "nbformat": 4,
 "nbformat_minor": 5
}
