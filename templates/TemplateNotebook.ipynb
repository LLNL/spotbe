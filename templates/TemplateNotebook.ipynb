{
 "cells": [
  {
   "cell_type": "code",
   "execution_count": 1,
   "metadata": {},
   "outputs": [],
   "source": [
    "import subprocess, json\n",
    "import pandas as pd"
   ]
  },
  {
   "cell_type": "code",
   "execution_count": 2,
   "metadata": {},
   "outputs": [],
   "source": [
    "cali_query = \"/usr/gapps/wf/web/spot/caliper_install/bin/cali-query\"\n",
    "#Sample file name /usr/gapps/wf/web/spot/data/lulesh_maximal/180926-171347_114610_dFcHlCXdiuQG.cali\n",
    "cali_file = \"CALI_FILE_NAME\"\n",
    "grouping_attribute = \"function\""
   ]
  },
  {
   "cell_type": "code",
   "execution_count": 3,
   "metadata": {},
   "outputs": [],
   "source": [
    "outstring = subprocess.check_output([cali_query,\"-q\",'SELECT '+grouping_attribute+',sum#time.inclusive.duration WHERE sum#time.inclusive.duration FORMAT JSON',cali_file])\n",
    "cali_globals = subprocess.check_output([cali_query,\"--list-globals\",\"-j\",cali_file])"
   ]
  },
  {
   "cell_type": "code",
   "execution_count": 4,
   "metadata": {},
   "outputs": [],
   "source": [
    "strout=str(outstring).replace(\"\\\\n\",\"\")[2:-1]\n",
    "function_json = json.loads(strout)\n",
    "strout=str(cali_globals).replace(\"\\\\n\",\"\")[2:-1]\n",
    "global_json = json.loads(strout)\n",
    "global_frame = pd.DataFrame.from_records(global_json)\n",
    "function_frame = pd.DataFrame.from_records(function_json)"
   ]
  },
  {
   "cell_type": "code",
   "execution_count": 5,
   "metadata": {},
   "outputs": [],
   "source": [
    "global_frame"
   ]
  },
  {
   "cell_type": "code",
   "execution_count": 6,
   "metadata": {},
   "outputs": [],
   "source": [
    "function_frame"
   ]
  },
  {
   "cell_type": "code",
   "execution_count": null,
   "metadata": {},
   "outputs": [],
   "source": []
  }
 ],
 "metadata": {
  "kernelspec": {
   "display_name": "Python 3",
   "language": "python",
   "name": "python3"
  },
  "language_info": {
   "codemirror_mode": {
    "name": "ipython",
    "version": 3
   },
   "file_extension": ".py",
   "mimetype": "text/x-python",
   "name": "python",
   "nbconvert_exporter": "python",
   "pygments_lexer": "ipython3",
   "version": "3.5.1"
  }
 },
 "nbformat": 4,
 "nbformat_minor": 2
}
