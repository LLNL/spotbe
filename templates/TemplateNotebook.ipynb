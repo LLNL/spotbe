{
 "cells": [
  {
   "cell_type": "code",
   "execution_count": null,
   "metadata": {},
   "outputs": [],
   "source": [
    "import sys\n",
    "import subprocess\n",
    "sys.path.append('/usr/gapps/spot/hatchet')\n",
    "import subprocess, json\n",
    "import pandas as pd\n",
    "from hatchet import *"
   ]
  },
  {
   "cell_type": "code",
   "execution_count": null,
   "metadata": {},
   "outputs": [],
   "source": [
    "cali_query = \"/usr/gapps/spot/caliper/bin/cali-query\"\n",
    "cali_file = \"CALI_FILE_NAME\"\n",
    "default_metric = \"CALI_METRIC_NAME\"\n",
    "grouping_attribute = \"function\"\n",
    "query = \"select %s,sum(%s) group by %s format json-split\" % (grouping_attribute, default_metric, grouping_attribute)"
   ]
  },
  {
   "cell_type": "code",
   "execution_count": null,
   "metadata": {},
   "outputs": [],
   "source": [
    "cali_json = subprocess.check_output([cali_query, \"-q\", query, cali_file])"
   ]
  },
  {
   "cell_type": "code",
   "execution_count": null,
   "metadata": {},
   "outputs": [],
   "source": [
    "gf = GraphFrame()\n",
    "gf.from_caliper(cali_json, input_type='literal')"
   ]
  },
  {
   "cell_type": "code",
   "execution_count": null,
   "metadata": {},
   "outputs": [],
   "source": [
    "print(gf.graph.to_string(gf.graph.roots, gf.dataframe, metric=default_metric))"
   ]
  },
  {
   "cell_type": "code",
   "execution_count": null,
   "metadata": {},
   "outputs": [],
   "source": []
  }
 ],
 "metadata": {
  "kernelspec": {
   "display_name": "Python 3",
   "language": "python",
   "name": "python3"
  },
  "language_info": {
   "codemirror_mode": {
    "name": "ipython",
    "version": 3
   },
   "file_extension": ".py",
   "mimetype": "text/x-python",
   "name": "python",
   "nbconvert_exporter": "python",
   "pygments_lexer": "ipython3",
   "version": "3.6.4"
  }
 },
 "nbformat": 4,
 "nbformat_minor": 2
}
