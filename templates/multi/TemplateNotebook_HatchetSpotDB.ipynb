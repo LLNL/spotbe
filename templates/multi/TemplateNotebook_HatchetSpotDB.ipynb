{
 "cells": [
  {
   "cell_type": "code",
   "execution_count": null,
   "id": "e7c54fbe",
   "metadata": {},
   "outputs": [],
   "source": [
    "import sys\n",
    "import platform\n",
    "from IPython.display import HTML, display\n",
    "\n",
    "machine = platform.uname().machine\n",
    "if machine == \"ppc64le\":\n",
    "    raise RuntimeError(\"Host should not be spawned on ppc64le architecture.\\nPlease spawn on an x86_64 host by clicking on the \\\"Control Panel\\\" button followed by the red \\\"Stop My Server\\\" button.\")\n",
    "\n",
    "# Variables replaced by spot.py\n",
    "input_deploy_dir_str = \"SPOT_DEPLOY_DIR\"\n",
    "input_db_uri_str = \"SPOT_SPOTDB_URI\"\n",
    "input_run_ids_str = \"SPOT_SPOTDB_RECORD_IDS\"\n",
    "\n",
    "sys.path.append(input_deploy_dir_str + \"/hatchet-venv/\" + machine + \"/lib/python3.7/site-packages\")\n",
    "sys.path.append(input_deploy_dir_str + \"/hatchet/\" + machine)\n",
    "sys.path.append(input_deploy_dir_str + \"/spotdb\")\n",
    "\n",
    "import datetime as dt\n",
    "import hatchet\n",
    "import spotdb"
   ]
  },
  {
   "cell_type": "code",
   "execution_count": null,
   "id": "97082d75",
   "metadata": {},
   "outputs": [],
   "source": [
    "db = spotdb.connect(input_db_uri_str)\n",
    "runs = input_run_ids_str.split(',')\n",
    "\n",
    "gfs = hatchet.GraphFrame.from_spotdb(db, runs)\n",
    "\n",
    "for idx, gf in enumerate(gfs):\n",
    "    launchdate = dt.datetime.fromtimestamp(int(gf.metadata[\"launchdate\"]))\n",
    "    jobsize = int(gf.metadata.get(\"jobsize\", 1))\n",
    "    print(\"launchdate: {}, jobsize: {}\".format(launchdate, jobsize))\n",
    "    print(gf.dataframe.columns)\n",
    "    print(gf.tree())"
   ]
  },
  {
   "cell_type": "code",
   "execution_count": null,
   "id": "5a092551",
   "metadata": {},
   "outputs": [],
   "source": [
    "# Compute the speedup between the first two cali files (exclusive and inclusive metrics only)\n",
    "gf1 = gfs[0]\n",
    "gf2 = gfs[1]\n",
    "\n",
    "gf3 = gf1 / gf2\n",
    "print(gf3.tree())\n",
    "display(HTML(gf3.dataframe.to_html()))"
   ]
  },
  {
   "cell_type": "code",
   "execution_count": null,
   "id": "35b527a8",
   "metadata": {},
   "outputs": [],
   "source": [
    "# Compute the difference between the first two cali files (exclusive and inclusive metrics only)\n",
    "# Print the resulting tree\n",
    "gf4 = gf1 - gf2\n",
    "print(gf4.tree())\n",
    "display(HTML(gf4.dataframe.to_html()))"
   ]
  },
  {
   "cell_type": "code",
   "execution_count": null,
   "id": "9a8cef15",
   "metadata": {},
   "outputs": [],
   "source": [
    "# Compute the sum of the first two cali files (exclusive and inclusive metrics only)\n",
    "# Print the resulting tree\n",
    "gf5 = gf1 + gf2\n",
    "print(gf5.tree())\n",
    "display(HTML(gf5.dataframe.to_html()))"
   ]
  }
 ],
 "metadata": {
  "kernelspec": {
   "display_name": "Python 3 (ipykernel)",
   "language": "python",
   "name": "python3"
  },
  "language_info": {
   "codemirror_mode": {
    "name": "ipython",
    "version": 3
   },
   "file_extension": ".py",
   "mimetype": "text/x-python",
   "name": "python",
   "nbconvert_exporter": "python",
   "pygments_lexer": "ipython3",
   "version": "3.11.4"
  }
 },
 "nbformat": 4,
 "nbformat_minor": 5
}
