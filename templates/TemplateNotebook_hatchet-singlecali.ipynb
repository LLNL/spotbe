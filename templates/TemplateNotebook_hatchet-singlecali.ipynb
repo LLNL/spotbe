{
 "cells": [
  {
   "cell_type": "markdown",
   "metadata": {},
   "source": [
    "##### Hatchet Notebook v0.1.0"
   ]
  },
  {
   "cell_type": "code",
   "execution_count": null,
   "metadata": {},
   "outputs": [],
   "source": [
    "import sys\n",
    "import subprocess\n",
    "import json\n",
    "import os\n",
    "import platform\n",
    "\n",
    "import pandas as pd\n",
    "from IPython.display import display, HTML\n",
    "\n",
    "machine = platform.uname().machine\n",
    "\n",
    "# Add hatchet to PYTHONPATH\n",
    "deploy_dir = \"DEPLOY_DIR\"\n",
    "sys.path.append(deploy_dir + 'hatchet/' + machine)\n",
    "import hatchet as ht"
   ]
  },
  {
   "cell_type": "code",
   "execution_count": null,
   "metadata": {},
   "outputs": [],
   "source": [
    "# Add cali-query to PATH\n",
    "cali_query_path = \"CALI_QUERY_PATH\"\n",
    "os.environ[\"PATH\"] += os.pathsep + cali_query_path\n",
    "\n",
    "cali_file = \"CALI_FILE_NAME\"\n",
    "\n",
    "grouping_attribute = \"prop:nested\"\n",
    "default_metric = \"CALI_METRIC_NAME\"\n",
    "query = \"select %s,sum(%s) group by %s format json-split\" % (grouping_attribute, default_metric, grouping_attribute)"
   ]
  },
  {
   "cell_type": "code",
   "execution_count": null,
   "metadata": {},
   "outputs": [],
   "source": [
    "gf = ht.GraphFrame.from_caliper(cali_file, query)"
   ]
  },
  {
   "cell_type": "code",
   "execution_count": null,
   "metadata": {},
   "outputs": [],
   "source": [
    "# Print the tree representation using the inclusive time metric\n",
    "print(gf.tree(metric_column=\"time (inc)\"))"
   ]
  },
  {
   "cell_type": "code",
   "execution_count": null,
   "metadata": {},
   "outputs": [],
   "source": [
    "# Print the dataframe with metadata\n",
    "display(HTML(gf.dataframe.to_html()))"
   ]
  }
 ],
 "metadata": {
  "kernelspec": {
   "display_name": "Python 3",
   "language": "python",
   "name": "python3"
  },
  "language_info": {
   "codemirror_mode": {
    "name": "ipython",
    "version": 3
   },
   "file_extension": ".py",
   "mimetype": "text/x-python",
   "name": "python",
   "nbconvert_exporter": "python",
   "pygments_lexer": "ipython3",
   "version": "3.7.2"
  }
 },
 "nbformat": 4,
 "nbformat_minor": 2
}
