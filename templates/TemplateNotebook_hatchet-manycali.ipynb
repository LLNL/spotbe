{
 "cells": [
  {
   "cell_type": "code",
   "execution_count": null,
   "metadata": {},
   "outputs": [],
   "source": [
    "import sys\n",
    "import subprocess\n",
    "import json\n",
    "import os\n",
    "\n",
    "import pandas as pd\n",
    "from IPython.display import display, HTML\n",
    "\n",
    "# Add hatchet to PYTHONPATH\n",
    "sys.path.append('/usr/gapps/spot/dev/hatchet')\n",
    "import hatchet as ht"
   ]
  },
  {
   "cell_type": "code",
   "execution_count": null,
   "metadata": {},
   "outputs": [],
   "source": [
    "# Add cali-query to PATH\n",
    "cali_query_path = \"CALI_QUERY_PATH\"\n",
    "os.environ[\"PATH\"] += os.pathsep + cali_query_path\n",
    "\n",
	MUTLI_CALI_FILES,
    "\n",
    "grouping_attribute = \"prop:nested\"\n",
    "default_metric = \"CALI_METRIC_NAME\" \n",
    "query = \"select %s,sum(%s) group by %s format json-split\" % (grouping_attribute, default_metric, grouping_attribute)"
   ]
  },
  {
   "cell_type": "code",
   "execution_count": null,
   "metadata": {},
   "outputs": [],
   "source": [
    "gf1 = ht.GraphFrame.from_caliper(CALI_FILES[0]['cali_file'], query)\n",
    "gf2 = ht.GraphFrame.from_caliper(CALI_FILES[1]['cali_file'], query)"
   ]
  },
  {
   "cell_type": "code",
   "execution_count": null,
   "metadata": {},
   "outputs": [],
   "source": [
    "# Print the tree representation using the default metric\n",
    "# Also print the resulting dataframe with metadata\n",
    "print(gf1.tree(color=True, metric=\"sum#\"+default_metric))\n",
    "display(HTML(gf1.dataframe.to_html()))"
   ]
  },
  {
   "cell_type": "code",
   "execution_count": null,
   "metadata": {},
   "outputs": [],
   "source": [
    "# Print the tree representation using the default metric\n",
    "# Also print the resulting dataframe with metadata\n",
    "print(gf2.tree(color=True, metric=\"sum#\"+default_metric))\n",
    "display(HTML(gf2.dataframe.to_html()))"
   ]
  },
  {
   "cell_type": "code",
   "execution_count": null,
   "metadata": {},
   "outputs": [],
   "source": [
    "# Compute the speedup between the first two cali files (exlusive and inclusive metrics only)\n",
    "gf3 = (gf1 - gf2) / gf2\n",
    "print(gf3.tree(color=True, metric=\"sum#\"+default_metric))"
   ]
  },
  {
   "cell_type": "code",
   "execution_count": null,
   "metadata": {},
   "outputs": [],
   "source": [
    "# Compute the difference between the first two cali files (exclusive and inclusive metrics only)\n",
    "# Print the resulting tree\n",
    "gf4 = gf1 - gf2\n",
    "print(gf4.tree(color=True, metric=\"sum#\"+default_metric))"
   ]
  },
  {
   "cell_type": "code",
   "execution_count": null,
   "metadata": {},
   "outputs": [],
   "source": [
    "# Compute the sum of the first two cali files (exclusive and inclusive metrics only)\n",
    "# Print the resulting tree\n",
    "gf5 = gf1 + gf2\n",
    "print(gf5.tree(color=True, metric=\"sum#\"+default_metric))"
   ]
  }
 ],
 "metadata": {
  "kernelspec": {
   "display_name": "Python 3",
   "language": "python",
   "name": "python3"
  },
  "language_info": {
   "codemirror_mode": {
    "name": "ipython",
    "version": 3
   },
   "file_extension": ".py",
   "mimetype": "text/x-python",
   "name": "python",
   "nbconvert_exporter": "python",
   "pygments_lexer": "ipython3",
   "version": "3.7.2"
  }
 },
 "nbformat": 4,
 "nbformat_minor": 2
}
